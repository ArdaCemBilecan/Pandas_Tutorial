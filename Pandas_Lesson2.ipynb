{
 "cells": [
  {
   "cell_type": "code",
   "execution_count": 1,
   "id": "b91bb8bf-13bd-449a-88c9-3849079e2c8b",
   "metadata": {},
   "outputs": [],
   "source": [
    "import pandas as pd\n",
    "import numpy as np"
   ]
  },
  {
   "cell_type": "markdown",
   "id": "222a1fe8-dff4-4fcb-b1d2-445340934401",
   "metadata": {},
   "source": [
    "# The cumulative sum of a column in DataFrame"
   ]
  },
  {
   "cell_type": "code",
   "execution_count": 3,
   "id": "1afaf9a6-acb2-4c68-8cee-b9353a6cb343",
   "metadata": {},
   "outputs": [
    {
     "data": {
      "text/html": [
       "<div>\n",
       "<style scoped>\n",
       "    .dataframe tbody tr th:only-of-type {\n",
       "        vertical-align: middle;\n",
       "    }\n",
       "\n",
       "    .dataframe tbody tr th {\n",
       "        vertical-align: top;\n",
       "    }\n",
       "\n",
       "    .dataframe thead th {\n",
       "        text-align: right;\n",
       "    }\n",
       "</style>\n",
       "<table border=\"1\" class=\"dataframe\">\n",
       "  <thead>\n",
       "    <tr style=\"text-align: right;\">\n",
       "      <th></th>\n",
       "      <th>col_A</th>\n",
       "      <th>col_B</th>\n",
       "      <th>col_C</th>\n",
       "      <th>col_D</th>\n",
       "    </tr>\n",
       "  </thead>\n",
       "  <tbody>\n",
       "    <tr>\n",
       "      <th>0</th>\n",
       "      <td>A</td>\n",
       "      <td>1</td>\n",
       "      <td>1</td>\n",
       "      <td>A</td>\n",
       "    </tr>\n",
       "    <tr>\n",
       "      <th>1</th>\n",
       "      <td>B</td>\n",
       "      <td>2</td>\n",
       "      <td>3</td>\n",
       "      <td>AB</td>\n",
       "    </tr>\n",
       "    <tr>\n",
       "      <th>2</th>\n",
       "      <td>C</td>\n",
       "      <td>3</td>\n",
       "      <td>6</td>\n",
       "      <td>ABC</td>\n",
       "    </tr>\n",
       "    <tr>\n",
       "      <th>3</th>\n",
       "      <td>D</td>\n",
       "      <td>4</td>\n",
       "      <td>10</td>\n",
       "      <td>ABCD</td>\n",
       "    </tr>\n",
       "  </tbody>\n",
       "</table>\n",
       "</div>"
      ],
      "text/plain": [
       "  col_A  col_B  col_C col_D\n",
       "0     A      1      1     A\n",
       "1     B      2      3    AB\n",
       "2     C      3      6   ABC\n",
       "3     D      4     10  ABCD"
      ]
     },
     "execution_count": 3,
     "metadata": {},
     "output_type": "execute_result"
    }
   ],
   "source": [
    "df = pd.DataFrame([[\"A\", 1], [\"B\", 2], [\"C\", 3], [\"D\", 4]], \n",
    "                  columns=[\"col_A\", \"col_B\"])\n",
    "\n",
    "df[\"col_C\"] = df.col_B.cumsum()\n",
    "df['col_D'] = df.col_A.cumsum()\n",
    "df"
   ]
  },
  {
   "cell_type": "markdown",
   "id": "35237097-0d43-46f7-b254-90d9b9815bdf",
   "metadata": {},
   "source": [
    "# Assign Unique IDs to every Group"
   ]
  },
  {
   "cell_type": "code",
   "execution_count": 16,
   "id": "30684574-c325-40e1-9968-3d2d48c8ca79",
   "metadata": {},
   "outputs": [
    {
     "data": {
      "text/html": [
       "<div>\n",
       "<style scoped>\n",
       "    .dataframe tbody tr th:only-of-type {\n",
       "        vertical-align: middle;\n",
       "    }\n",
       "\n",
       "    .dataframe tbody tr th {\n",
       "        vertical-align: top;\n",
       "    }\n",
       "\n",
       "    .dataframe thead th {\n",
       "        text-align: right;\n",
       "    }\n",
       "</style>\n",
       "<table border=\"1\" class=\"dataframe\">\n",
       "  <thead>\n",
       "    <tr style=\"text-align: right;\">\n",
       "      <th></th>\n",
       "      <th>col_A</th>\n",
       "      <th>col_B</th>\n",
       "      <th>group_num</th>\n",
       "    </tr>\n",
       "  </thead>\n",
       "  <tbody>\n",
       "    <tr>\n",
       "      <th>0</th>\n",
       "      <td>A</td>\n",
       "      <td>1</td>\n",
       "      <td>0</td>\n",
       "    </tr>\n",
       "    <tr>\n",
       "      <th>1</th>\n",
       "      <td>B</td>\n",
       "      <td>2</td>\n",
       "      <td>1</td>\n",
       "    </tr>\n",
       "    <tr>\n",
       "      <th>2</th>\n",
       "      <td>A</td>\n",
       "      <td>3</td>\n",
       "      <td>0</td>\n",
       "    </tr>\n",
       "    <tr>\n",
       "      <th>3</th>\n",
       "      <td>D</td>\n",
       "      <td>4</td>\n",
       "      <td>2</td>\n",
       "    </tr>\n",
       "  </tbody>\n",
       "</table>\n",
       "</div>"
      ],
      "text/plain": [
       "  col_A  col_B  group_num\n",
       "0     A      1          0\n",
       "1     B      2          1\n",
       "2     A      3          0\n",
       "3     D      4          2"
      ]
     },
     "execution_count": 16,
     "metadata": {},
     "output_type": "execute_result"
    }
   ],
   "source": [
    "df = pd.DataFrame([[\"A\", 1], [\"B\", 2], [\"A\", 3], [\"D\", 4]], \n",
    "                  columns=[\"col_A\", \"col_B\"])\n",
    "\n",
    "df[\"group_num\"] = df.groupby(\"col_A\").grouper.group_info[0] \n",
    "df"
   ]
  },
  {
   "cell_type": "markdown",
   "id": "58d65b4f-aa8c-46df-9a59-1456795ba89f",
   "metadata": {},
   "source": [
    "#  Check if a column has NaN values"
   ]
  },
  {
   "cell_type": "code",
   "execution_count": 17,
   "id": "80a60f5a-3649-40a1-bbe8-23850007c087",
   "metadata": {},
   "outputs": [
    {
     "data": {
      "text/plain": [
       "(False, True)"
      ]
     },
     "execution_count": 17,
     "metadata": {},
     "output_type": "execute_result"
    }
   ],
   "source": [
    "df = pd.DataFrame([[\"A\", np.NaN], [\"A\", 2], [\"C\", np.NaN], [\"D\", 4]], \n",
    "                  columns=[\"col_A\", \"col_B\"])\n",
    "\n",
    "\n",
    "col_A_check = df.col_A.hasnans\n",
    "col_B_check = df.col_B.hasnans\n",
    "\n",
    "col_A_check , col_B_check"
   ]
  },
  {
   "cell_type": "markdown",
   "id": "2cf280a6-5265-4194-88f0-759fcb61f146",
   "metadata": {},
   "source": [
    "# Append a list as a row to a DataFrame"
   ]
  },
  {
   "cell_type": "code",
   "execution_count": 20,
   "id": "ab23fd3e-75f2-469d-8092-8a12d01a6a22",
   "metadata": {},
   "outputs": [
    {
     "data": {
      "text/html": [
       "<div>\n",
       "<style scoped>\n",
       "    .dataframe tbody tr th:only-of-type {\n",
       "        vertical-align: middle;\n",
       "    }\n",
       "\n",
       "    .dataframe tbody tr th {\n",
       "        vertical-align: top;\n",
       "    }\n",
       "\n",
       "    .dataframe thead th {\n",
       "        text-align: right;\n",
       "    }\n",
       "</style>\n",
       "<table border=\"1\" class=\"dataframe\">\n",
       "  <thead>\n",
       "    <tr style=\"text-align: right;\">\n",
       "      <th></th>\n",
       "      <th>col_A</th>\n",
       "      <th>col_B</th>\n",
       "    </tr>\n",
       "  </thead>\n",
       "  <tbody>\n",
       "    <tr>\n",
       "      <th>0</th>\n",
       "      <td>A</td>\n",
       "      <td>1</td>\n",
       "    </tr>\n",
       "    <tr>\n",
       "      <th>1</th>\n",
       "      <td>B</td>\n",
       "      <td>2</td>\n",
       "    </tr>\n",
       "    <tr>\n",
       "      <th>2</th>\n",
       "      <td>C</td>\n",
       "      <td>3</td>\n",
       "    </tr>\n",
       "    <tr>\n",
       "      <th>3</th>\n",
       "      <td>D</td>\n",
       "      <td>4</td>\n",
       "    </tr>\n",
       "    <tr>\n",
       "      <th>4</th>\n",
       "      <td>E</td>\n",
       "      <td>5</td>\n",
       "    </tr>\n",
       "  </tbody>\n",
       "</table>\n",
       "</div>"
      ],
      "text/plain": [
       "  col_A  col_B\n",
       "0     A      1\n",
       "1     B      2\n",
       "2     C      3\n",
       "3     D      4\n",
       "4     E      5"
      ]
     },
     "execution_count": 20,
     "metadata": {},
     "output_type": "execute_result"
    }
   ],
   "source": [
    "df = pd.DataFrame([[\"A\", 1], [\"B\", 2], [\"C\", 3], [\"D\", 4]], \n",
    "                  columns=[\"col_A\", \"col_B\"])\n",
    "\n",
    "new_row = [\"E\", 5]\n",
    "\n",
    "df.loc[df.shape[0]] = new_row\n",
    "df"
   ]
  },
  {
   "cell_type": "markdown",
   "id": "8bd23301-bce3-4a89-ae86-3a08ff1c7952",
   "metadata": {},
   "source": [
    "# Get the first row of every unique value in a column"
   ]
  },
  {
   "cell_type": "code",
   "execution_count": 25,
   "id": "eb3374f0-b503-41f0-8558-bf7162386748",
   "metadata": {},
   "outputs": [
    {
     "data": {
      "text/html": [
       "<div>\n",
       "<style scoped>\n",
       "    .dataframe tbody tr th:only-of-type {\n",
       "        vertical-align: middle;\n",
       "    }\n",
       "\n",
       "    .dataframe tbody tr th {\n",
       "        vertical-align: top;\n",
       "    }\n",
       "\n",
       "    .dataframe thead th {\n",
       "        text-align: right;\n",
       "    }\n",
       "</style>\n",
       "<table border=\"1\" class=\"dataframe\">\n",
       "  <thead>\n",
       "    <tr style=\"text-align: right;\">\n",
       "      <th></th>\n",
       "      <th>col_B</th>\n",
       "    </tr>\n",
       "    <tr>\n",
       "      <th>col_A</th>\n",
       "      <th></th>\n",
       "    </tr>\n",
       "  </thead>\n",
       "  <tbody>\n",
       "    <tr>\n",
       "      <th>A</th>\n",
       "      <td>1</td>\n",
       "    </tr>\n",
       "    <tr>\n",
       "      <th>B</th>\n",
       "      <td>2</td>\n",
       "    </tr>\n",
       "    <tr>\n",
       "      <th>D</th>\n",
       "      <td>4</td>\n",
       "    </tr>\n",
       "  </tbody>\n",
       "</table>\n",
       "</div>"
      ],
      "text/plain": [
       "       col_B\n",
       "col_A       \n",
       "A          1\n",
       "B          2\n",
       "D          4"
      ]
     },
     "execution_count": 25,
     "metadata": {},
     "output_type": "execute_result"
    }
   ],
   "source": [
    "df = pd.DataFrame([[\"A\", 1], [\"B\", 2], [\"A\", 3], [\"D\", 4]], \n",
    "                  columns=[\"col_A\", \"col_B\"])\n",
    "\n",
    "df = df.groupby(\"col_A\").first()\n",
    "df"
   ]
  },
  {
   "cell_type": "code",
   "execution_count": 26,
   "id": "2f4169c8-72d5-48c1-8382-f85656824f79",
   "metadata": {},
   "outputs": [
    {
     "data": {
      "text/html": [
       "<div>\n",
       "<style scoped>\n",
       "    .dataframe tbody tr th:only-of-type {\n",
       "        vertical-align: middle;\n",
       "    }\n",
       "\n",
       "    .dataframe tbody tr th {\n",
       "        vertical-align: top;\n",
       "    }\n",
       "\n",
       "    .dataframe thead th {\n",
       "        text-align: right;\n",
       "    }\n",
       "</style>\n",
       "<table border=\"1\" class=\"dataframe\">\n",
       "  <thead>\n",
       "    <tr style=\"text-align: right;\">\n",
       "      <th></th>\n",
       "      <th>col_B</th>\n",
       "    </tr>\n",
       "    <tr>\n",
       "      <th>col_A</th>\n",
       "      <th></th>\n",
       "    </tr>\n",
       "  </thead>\n",
       "  <tbody>\n",
       "    <tr>\n",
       "      <th>A</th>\n",
       "      <td>3</td>\n",
       "    </tr>\n",
       "    <tr>\n",
       "      <th>B</th>\n",
       "      <td>2</td>\n",
       "    </tr>\n",
       "    <tr>\n",
       "      <th>D</th>\n",
       "      <td>4</td>\n",
       "    </tr>\n",
       "  </tbody>\n",
       "</table>\n",
       "</div>"
      ],
      "text/plain": [
       "       col_B\n",
       "col_A       \n",
       "A          3\n",
       "B          2\n",
       "D          4"
      ]
     },
     "execution_count": 26,
     "metadata": {},
     "output_type": "execute_result"
    }
   ],
   "source": [
    "df = pd.DataFrame([[\"A\", 1], [\"B\", 2], [\"A\", 3], [\"D\", 4]], \n",
    "                  columns=[\"col_A\", \"col_B\"])\n",
    "\n",
    "df = df.groupby(\"col_A\").last()\n",
    "df"
   ]
  },
  {
   "cell_type": "markdown",
   "id": "e82224c5-1721-4c2d-800b-27d1881909d8",
   "metadata": {},
   "source": [
    "# Identify the source of each row in Pandas Merge"
   ]
  },
  {
   "cell_type": "code",
   "execution_count": 33,
   "id": "465f216c-4a4d-4e9e-bdc2-b7574eddf777",
   "metadata": {},
   "outputs": [
    {
     "data": {
      "text/html": [
       "<div>\n",
       "<style scoped>\n",
       "    .dataframe tbody tr th:only-of-type {\n",
       "        vertical-align: middle;\n",
       "    }\n",
       "\n",
       "    .dataframe tbody tr th {\n",
       "        vertical-align: top;\n",
       "    }\n",
       "\n",
       "    .dataframe thead th {\n",
       "        text-align: right;\n",
       "    }\n",
       "</style>\n",
       "<table border=\"1\" class=\"dataframe\">\n",
       "  <thead>\n",
       "    <tr style=\"text-align: right;\">\n",
       "      <th></th>\n",
       "      <th>col_A</th>\n",
       "      <th>col_B</th>\n",
       "      <th>col_C</th>\n",
       "      <th>_merge</th>\n",
       "    </tr>\n",
       "  </thead>\n",
       "  <tbody>\n",
       "    <tr>\n",
       "      <th>0</th>\n",
       "      <td>A</td>\n",
       "      <td>1</td>\n",
       "      <td>3.0</td>\n",
       "      <td>both</td>\n",
       "    </tr>\n",
       "    <tr>\n",
       "      <th>1</th>\n",
       "      <td>B</td>\n",
       "      <td>2</td>\n",
       "      <td>NaN</td>\n",
       "      <td>left_only</td>\n",
       "    </tr>\n",
       "  </tbody>\n",
       "</table>\n",
       "</div>"
      ],
      "text/plain": [
       "  col_A  col_B  col_C     _merge\n",
       "0     A      1    3.0       both\n",
       "1     B      2    NaN  left_only"
      ]
     },
     "execution_count": 33,
     "metadata": {},
     "output_type": "execute_result"
    }
   ],
   "source": [
    "df1 = pd.DataFrame([[\"A\", 1], [\"B\", 2]], \n",
    "                  columns=[\"col_A\", \"col_B\"])\n",
    "\n",
    "df2 = pd.DataFrame([[\"A\", 3], [\"C\", 4]], \n",
    "                  columns=[\"col_A\", \"col_C\"])\n",
    "\n",
    "df = pd.merge(df1,df2,how='left',indicator = True)\n",
    "df"
   ]
  },
  {
   "cell_type": "markdown",
   "id": "76c159aa-04f8-47d1-b96d-4718cef7f881",
   "metadata": {},
   "source": [
    "# Filter n-largest and n-smallest values from a DataFrame"
   ]
  },
  {
   "cell_type": "code",
   "execution_count": 37,
   "id": "54e336ad-041d-4836-9fc8-9ec3dd3d8801",
   "metadata": {},
   "outputs": [
    {
     "data": {
      "text/plain": [
       "(  col_A  col_B\n",
       " 1     B    400\n",
       " 3     D    300,\n",
       "   col_A  col_B\n",
       " 2     C    100\n",
       " 0     A    200)"
      ]
     },
     "execution_count": 37,
     "metadata": {},
     "output_type": "execute_result"
    }
   ],
   "source": [
    "df = pd.DataFrame([[\"A\", 200], [\"B\", 400], [\"C\", 100], [\"D\", 300]], \n",
    "                  columns=[\"col_A\", \"col_B\"])\n",
    "\n",
    "new_df = df.nlargest(n=2, columns=\"col_B\")\n",
    "new_df2 = df.nsmallest(n=2 , columns=\"col_B\")\n",
    "new_df ,new_df2"
   ]
  },
  {
   "cell_type": "markdown",
   "id": "74f363bc-3afd-42e4-af57-1ceb7773aba8",
   "metadata": {},
   "source": [
    "#  Map categorical data to unique integral values"
   ]
  },
  {
   "cell_type": "code",
   "execution_count": 38,
   "id": "7c955b69-d4e7-493c-9d16-01d2b544e473",
   "metadata": {},
   "outputs": [
    {
     "data": {
      "text/html": [
       "<div>\n",
       "<style scoped>\n",
       "    .dataframe tbody tr th:only-of-type {\n",
       "        vertical-align: middle;\n",
       "    }\n",
       "\n",
       "    .dataframe tbody tr th {\n",
       "        vertical-align: top;\n",
       "    }\n",
       "\n",
       "    .dataframe thead th {\n",
       "        text-align: right;\n",
       "    }\n",
       "</style>\n",
       "<table border=\"1\" class=\"dataframe\">\n",
       "  <thead>\n",
       "    <tr style=\"text-align: right;\">\n",
       "      <th></th>\n",
       "      <th>col_A</th>\n",
       "      <th>col_B</th>\n",
       "      <th>new_col</th>\n",
       "    </tr>\n",
       "  </thead>\n",
       "  <tbody>\n",
       "    <tr>\n",
       "      <th>0</th>\n",
       "      <td>A</td>\n",
       "      <td>1</td>\n",
       "      <td>0</td>\n",
       "    </tr>\n",
       "    <tr>\n",
       "      <th>1</th>\n",
       "      <td>B</td>\n",
       "      <td>2</td>\n",
       "      <td>1</td>\n",
       "    </tr>\n",
       "    <tr>\n",
       "      <th>2</th>\n",
       "      <td>A</td>\n",
       "      <td>3</td>\n",
       "      <td>0</td>\n",
       "    </tr>\n",
       "    <tr>\n",
       "      <th>3</th>\n",
       "      <td>D</td>\n",
       "      <td>4</td>\n",
       "      <td>2</td>\n",
       "    </tr>\n",
       "  </tbody>\n",
       "</table>\n",
       "</div>"
      ],
      "text/plain": [
       "  col_A  col_B  new_col\n",
       "0     A      1        0\n",
       "1     B      2        1\n",
       "2     A      3        0\n",
       "3     D      4        2"
      ]
     },
     "execution_count": 38,
     "metadata": {},
     "output_type": "execute_result"
    }
   ],
   "source": [
    "df = pd.DataFrame([[\"A\", 1], [\"B\", 2],\n",
    "                   [\"A\", 3], [\"D\", 4]], \n",
    "                  columns=[\"col_A\", \"col_B\"])\n",
    "\n",
    "df[\"new_col\"] = pd.factorize(df.col_A)[0]\n",
    "df"
   ]
  },
  {
   "cell_type": "markdown",
   "id": "bae05286-370d-4188-ad94-5a4edd0a215b",
   "metadata": {},
   "source": [
    "# Add prefix to every column name"
   ]
  },
  {
   "cell_type": "code",
   "execution_count": 39,
   "id": "e91ed9f8-0cc0-4790-8397-93c174ab9567",
   "metadata": {},
   "outputs": [
    {
     "data": {
      "text/html": [
       "<div>\n",
       "<style scoped>\n",
       "    .dataframe tbody tr th:only-of-type {\n",
       "        vertical-align: middle;\n",
       "    }\n",
       "\n",
       "    .dataframe tbody tr th {\n",
       "        vertical-align: top;\n",
       "    }\n",
       "\n",
       "    .dataframe thead th {\n",
       "        text-align: right;\n",
       "    }\n",
       "</style>\n",
       "<table border=\"1\" class=\"dataframe\">\n",
       "  <thead>\n",
       "    <tr style=\"text-align: right;\">\n",
       "      <th></th>\n",
       "      <th>pre_col_A</th>\n",
       "      <th>pre_col_B</th>\n",
       "    </tr>\n",
       "  </thead>\n",
       "  <tbody>\n",
       "    <tr>\n",
       "      <th>0</th>\n",
       "      <td>A</td>\n",
       "      <td>1</td>\n",
       "    </tr>\n",
       "    <tr>\n",
       "      <th>1</th>\n",
       "      <td>B</td>\n",
       "      <td>2</td>\n",
       "    </tr>\n",
       "    <tr>\n",
       "      <th>2</th>\n",
       "      <td>C</td>\n",
       "      <td>3</td>\n",
       "    </tr>\n",
       "    <tr>\n",
       "      <th>3</th>\n",
       "      <td>D</td>\n",
       "      <td>4</td>\n",
       "    </tr>\n",
       "  </tbody>\n",
       "</table>\n",
       "</div>"
      ],
      "text/plain": [
       "  pre_col_A  pre_col_B\n",
       "0         A          1\n",
       "1         B          2\n",
       "2         C          3\n",
       "3         D          4"
      ]
     },
     "execution_count": 39,
     "metadata": {},
     "output_type": "execute_result"
    }
   ],
   "source": [
    "df = pd.DataFrame([[\"A\", 1], [\"B\", 2], [\"C\", 3], [\"D\", 4]], \n",
    "                  columns=[\"col_A\", \"col_B\"])\n",
    "\n",
    "\n",
    "df.add_prefix(\"pre_\")"
   ]
  },
  {
   "cell_type": "markdown",
   "id": "e8a60a48-5334-4221-9e3d-bd38acb557cd",
   "metadata": {},
   "source": [
    "# Convert categorical columns to one hot values\n",
    "  * It is important"
   ]
  },
  {
   "cell_type": "code",
   "execution_count": 40,
   "id": "8065e247-ea61-4822-862f-e51e910f1d36",
   "metadata": {},
   "outputs": [
    {
     "data": {
      "text/html": [
       "<div>\n",
       "<style scoped>\n",
       "    .dataframe tbody tr th:only-of-type {\n",
       "        vertical-align: middle;\n",
       "    }\n",
       "\n",
       "    .dataframe tbody tr th {\n",
       "        vertical-align: top;\n",
       "    }\n",
       "\n",
       "    .dataframe thead th {\n",
       "        text-align: right;\n",
       "    }\n",
       "</style>\n",
       "<table border=\"1\" class=\"dataframe\">\n",
       "  <thead>\n",
       "    <tr style=\"text-align: right;\">\n",
       "      <th></th>\n",
       "      <th>A</th>\n",
       "      <th>B</th>\n",
       "      <th>C</th>\n",
       "    </tr>\n",
       "  </thead>\n",
       "  <tbody>\n",
       "    <tr>\n",
       "      <th>0</th>\n",
       "      <td>1</td>\n",
       "      <td>0</td>\n",
       "      <td>0</td>\n",
       "    </tr>\n",
       "    <tr>\n",
       "      <th>1</th>\n",
       "      <td>0</td>\n",
       "      <td>1</td>\n",
       "      <td>0</td>\n",
       "    </tr>\n",
       "    <tr>\n",
       "      <th>2</th>\n",
       "      <td>0</td>\n",
       "      <td>0</td>\n",
       "      <td>1</td>\n",
       "    </tr>\n",
       "    <tr>\n",
       "      <th>3</th>\n",
       "      <td>1</td>\n",
       "      <td>0</td>\n",
       "      <td>0</td>\n",
       "    </tr>\n",
       "  </tbody>\n",
       "</table>\n",
       "</div>"
      ],
      "text/plain": [
       "   A  B  C\n",
       "0  1  0  0\n",
       "1  0  1  0\n",
       "2  0  0  1\n",
       "3  1  0  0"
      ]
     },
     "execution_count": 40,
     "metadata": {},
     "output_type": "execute_result"
    }
   ],
   "source": [
    "df = pd.DataFrame([[\"A\"], [\"B\"], [\"C\"], [\"A\"]], \n",
    "                  columns=[\"col_A\"])\n",
    "\n",
    "new_df = pd.get_dummies(df.col_A)\n",
    "new_df"
   ]
  }
 ],
 "metadata": {
  "kernelspec": {
   "display_name": "Python 3 (ipykernel)",
   "language": "python",
   "name": "python3"
  },
  "language_info": {
   "codemirror_mode": {
    "name": "ipython",
    "version": 3
   },
   "file_extension": ".py",
   "mimetype": "text/x-python",
   "name": "python",
   "nbconvert_exporter": "python",
   "pygments_lexer": "ipython3",
   "version": "3.9.7"
  }
 },
 "nbformat": 4,
 "nbformat_minor": 5
}
